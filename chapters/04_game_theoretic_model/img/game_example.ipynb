{
 "cells": [
  {
   "cell_type": "code",
   "execution_count": 1,
   "metadata": {},
   "outputs": [],
   "source": [
    "import ambulance_game as abg"
   ]
  },
  {
   "cell_type": "code",
   "execution_count": 6,
   "metadata": {},
   "outputs": [
    {
     "data": {
      "text/plain": [
       "dict_keys(['__name__', '__doc__', '__package__', '__loader__', '__spec__', '__file__', '__cached__', '__builtins__', 'functools', 'itertools', 'da', 'nash', 'np', 'scipy', 'get_mean_blocking_difference_using_markov', 'proportion_within_target_using_markov_state_probabilities', 'get_mean_blocking_difference_using_simulation', 'get_mean_proportion_of_individuals_within_target_for_multiple_runs', 'calculate_class_2_individuals_best_response', 'get_routing_matrix', 'get_individual_entries_of_matrices', 'compute_tasks', 'build_matrices_from_computed_tasks', 'get_payoff_matrices', 'build_game_using_payoff_matrices'])"
      ]
     },
     "execution_count": 6,
     "metadata": {},
     "output_type": "execute_result"
    }
   ],
   "source": [
    "abg.game.__dict__.keys()"
   ]
  },
  {
   "cell_type": "code",
   "execution_count": null,
   "metadata": {},
   "outputs": [],
   "source": []
  }
 ],
 "metadata": {
  "kernelspec": {
   "display_name": "Python 3.9.0 ('thesis_env')",
   "language": "python",
   "name": "python3"
  },
  "language_info": {
   "codemirror_mode": {
    "name": "ipython",
    "version": 3
   },
   "file_extension": ".py",
   "mimetype": "text/x-python",
   "name": "python",
   "nbconvert_exporter": "python",
   "pygments_lexer": "ipython3",
   "version": "3.9.0"
  },
  "orig_nbformat": 4,
  "vscode": {
   "interpreter": {
    "hash": "03e0c90f518b252709b410be75989f6632b8029f6a69bcca929b6af2a03e6e7f"
   }
  }
 },
 "nbformat": 4,
 "nbformat_minor": 2
}
