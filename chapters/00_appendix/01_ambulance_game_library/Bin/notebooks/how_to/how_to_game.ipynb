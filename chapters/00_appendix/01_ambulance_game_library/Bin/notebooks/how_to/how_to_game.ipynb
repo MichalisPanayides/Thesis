{
 "cells": [
  {
   "cell_type": "code",
   "execution_count": 1,
   "metadata": {},
   "outputs": [],
   "source": [
    ">>> import ambulance_game as abg\n",
    ">>> import numpy as np"
   ]
  },
  {
   "cell_type": "code",
   "execution_count": 143,
   "metadata": {},
   "outputs": [],
   "source": [
    ">>> lambda_2 = 20\n",
    ">>> p_hat = 0.99\n",
    ">>> alpha = 0.7\n",
    ">>> target = 1\n",
    ">>> \n",
    ">>> lambda_1_1 = 2\n",
    ">>> mu_1 = 5\n",
    ">>> num_of_servers_1 = 3\n",
    ">>> threshold_1 = 4\n",
    ">>> system_capacity_1 = 6\n",
    ">>> buffer_capacity_1 = 4\n",
    ">>> \n",
    ">>> lambda_1_2 = 1\n",
    ">>> mu_2 = 7\n",
    ">>> num_of_servers_2 = 2\n",
    ">>> threshold_2 = 3\n",
    ">>> system_capacity_2 = 5\n",
    ">>> buffer_capacity_2 = 4"
   ]
  },
  {
   "cell_type": "code",
   "execution_count": 145,
   "metadata": {},
   "outputs": [
    {
     "data": {
      "text/plain": [
       "0.5065060950167238"
      ]
     },
     "execution_count": 145,
     "metadata": {},
     "output_type": "execute_result"
    }
   ],
   "source": [
    ">>> abg.game.calculate_class_2_individuals_best_response(\n",
    "...     lambda_2=lambda_2,\n",
    "...     lambda_1_1=lambda_1_1,\n",
    "...     lambda_1_2=lambda_1_2,\n",
    "...     mu_1=mu_1,\n",
    "...     mu_2=mu_2,\n",
    "...     num_of_servers_1=num_of_servers_1,\n",
    "...     num_of_servers_2=num_of_servers_2,\n",
    "...     threshold_1=threshold_1,\n",
    "...     threshold_2=threshold_2,\n",
    "...     system_capacity_1=system_capacity_1,\n",
    "...     system_capacity_2=system_capacity_2,\n",
    "...     buffer_capacity_1=buffer_capacity_1,\n",
    "...     buffer_capacity_2=buffer_capacity_2,\n",
    "... )"
   ]
  },
  {
   "cell_type": "code",
   "execution_count": 146,
   "metadata": {},
   "outputs": [
    {
     "data": {
      "text/plain": [
       "array([[0.33, 0.18, 0.17, 0.17, 0.15],\n",
       "       [0.59, 0.38, 0.36, 0.35, 0.32],\n",
       "       [0.71, 0.5 , 0.48, 0.46, 0.42],\n",
       "       [0.72, 0.53, 0.5 , 0.48, 0.45],\n",
       "       [0.73, 0.55, 0.52, 0.5 , 0.47],\n",
       "       [0.77, 0.6 , 0.57, 0.55, 0.51]])"
      ]
     },
     "execution_count": 146,
     "metadata": {},
     "output_type": "execute_result"
    }
   ],
   "source": [
    ">>> R = abg.game.get_routing_matrix(\n",
    "...     lambda_2=lambda_2,\n",
    "...     lambda_1_1=lambda_1_1,\n",
    "...     lambda_1_2=lambda_1_2,\n",
    "...     mu_1=mu_1,\n",
    "...     mu_2=mu_2,\n",
    "...     num_of_servers_1=num_of_servers_1,\n",
    "...     num_of_servers_2=num_of_servers_2,\n",
    "...     system_capacity_1=system_capacity_1,\n",
    "...     system_capacity_2=system_capacity_2,\n",
    "...     buffer_capacity_1=buffer_capacity_1,\n",
    "...     buffer_capacity_2=buffer_capacity_2,\n",
    "...     alpha=alpha\n",
    "... )\n",
    ">>> np.round(R, 2)"
   ]
  },
  {
   "cell_type": "code",
   "execution_count": 147,
   "metadata": {},
   "outputs": [
    {
     "data": {
      "text/plain": [
       "(array([0., 0., 0., 0., 1., 0.]), array([0., 0., 0., 0., 1.]))"
      ]
     },
     "execution_count": 147,
     "metadata": {},
     "output_type": "execute_result"
    }
   ],
   "source": [
    ">>> game = abg.game.build_game_using_payoff_matrices(\n",
    "...     lambda_2=lambda_2,\n",
    "...     lambda_1_1=lambda_1_1,\n",
    "...     lambda_1_2=lambda_1_2,\n",
    "...     mu_1=mu_1,\n",
    "...     mu_2=mu_2,\n",
    "...     num_of_servers_1=num_of_servers_1,\n",
    "...     num_of_servers_2=num_of_servers_2,\n",
    "...     system_capacity_1=system_capacity_1,\n",
    "...     system_capacity_2=system_capacity_2,\n",
    "...     buffer_capacity_1=buffer_capacity_1,\n",
    "...     buffer_capacity_2=buffer_capacity_2,\n",
    "...     target=target,\n",
    "...     alpha=alpha,\n",
    "...     p_hat=p_hat,\n",
    "... )\n",
    ">>> game.lemke_howson(initial_dropped_label=0)"
   ]
  },
  {
   "cell_type": "code",
   "execution_count": null,
   "metadata": {},
   "outputs": [],
   "source": []
  },
  {
   "cell_type": "code",
   "execution_count": null,
   "metadata": {},
   "outputs": [],
   "source": []
  },
  {
   "cell_type": "code",
   "execution_count": null,
   "metadata": {},
   "outputs": [],
   "source": []
  }
 ],
 "metadata": {
  "kernelspec": {
   "display_name": "thesis_env",
   "language": "python",
   "name": "python3"
  },
  "language_info": {
   "codemirror_mode": {
    "name": "ipython",
    "version": 3
   },
   "file_extension": ".py",
   "mimetype": "text/x-python",
   "name": "python",
   "nbconvert_exporter": "python",
   "pygments_lexer": "ipython3",
   "version": "3.9.0"
  },
  "orig_nbformat": 4
 },
 "nbformat": 4,
 "nbformat_minor": 2
}
