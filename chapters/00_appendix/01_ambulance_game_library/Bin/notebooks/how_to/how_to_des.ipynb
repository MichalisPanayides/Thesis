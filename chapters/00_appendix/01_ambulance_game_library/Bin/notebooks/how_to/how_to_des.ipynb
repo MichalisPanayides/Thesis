{
 "cells": [
  {
   "cell_type": "code",
   "execution_count": 1,
   "metadata": {},
   "outputs": [],
   "source": [
    "import ambulance_game as abg\n",
    "import numpy as np"
   ]
  },
  {
   "cell_type": "code",
   "execution_count": 2,
   "metadata": {},
   "outputs": [],
   "source": [
    "lambda_1 = 3\n",
    "lambda_2 = 2\n",
    "mu = 1\n",
    "num_of_servers = 6\n",
    "threshold = 10"
   ]
  },
  {
   "cell_type": "code",
   "execution_count": 3,
   "metadata": {},
   "outputs": [
    {
     "data": {
      "text/plain": [
       "Record(id_number=2, customer_class=0, node=2, arrival_date=0.5727571550618586, waiting_time=0.0, service_start_date=0.5727571550618586, service_time=0.7159547497671506, service_end_date=1.2887119048290092, time_blocked=0.0, exit_date=1.2887119048290092, destination=-1, queue_size_at_arrival=1, queue_size_at_departure=3)"
      ]
     },
     "execution_count": 3,
     "metadata": {},
     "output_type": "execute_result"
    }
   ],
   "source": [
    ">>> import ambulance_game as abg\n",
    ">>> import numpy as np\n",
    ">>> simulation = abg.simulation.simulate_model(\n",
    "...     lambda_1=lambda_1,\n",
    "...     lambda_2=lambda_2,\n",
    "...     mu=mu,\n",
    "...     num_of_servers=num_of_servers,\n",
    "...     threshold=threshold,\n",
    "...     seed_num=0,\n",
    "... )\n",
    ">>> simulation.get_all_records()[4]"
   ]
  },
  {
   "cell_type": "code",
   "execution_count": 4,
   "metadata": {},
   "outputs": [
    {
     "data": {
      "text/plain": [
       "0.23845862661827116"
      ]
     },
     "execution_count": 4,
     "metadata": {},
     "output_type": "execute_result"
    }
   ],
   "source": [
    ">>> records = simulation.get_all_records()\n",
    ">>> mean_wait = np.mean(\n",
    "...     [w.waiting_time for w in records]\n",
    "... )\n",
    ">>> mean_wait"
   ]
  },
  {
   "cell_type": "code",
   "execution_count": 5,
   "metadata": {},
   "outputs": [
    {
     "data": {
      "text/plain": [
       "0.08501727452006658"
      ]
     },
     "execution_count": 5,
     "metadata": {},
     "output_type": "execute_result"
    }
   ],
   "source": [
    ">>> mean_block = np.mean(\n",
    "...     [b.time_blocked for b in records]\n",
    "... )\n",
    ">>> mean_block"
   ]
  },
  {
   "cell_type": "code",
   "execution_count": 6,
   "metadata": {},
   "outputs": [
    {
     "data": {
      "text/plain": [
       "0.7102610863960119"
      ]
     },
     "execution_count": 6,
     "metadata": {},
     "output_type": "execute_result"
    }
   ],
   "source": [
    ">>> mean_service = np.mean(\n",
    "...     [s.service_time for s in records]\n",
    "... )\n",
    ">>> mean_service"
   ]
  },
  {
   "cell_type": "code",
   "execution_count": 7,
   "metadata": {},
   "outputs": [
    {
     "data": {
      "text/plain": [
       "0.6200119712689545"
      ]
     },
     "execution_count": 7,
     "metadata": {},
     "output_type": "execute_result"
    }
   ],
   "source": [
    ">>> target = 1\n",
    ">>> proportion_within_target = np.mean(\n",
    "...     [r.waiting_time + r.service_time <= target for r in records]\n",
    "... )\n",
    ">>> proportion_within_target"
   ]
  },
  {
   "cell_type": "code",
   "execution_count": 8,
   "metadata": {},
   "outputs": [],
   "source": [
    ">>> all_simulations = abg.simulation.get_multiple_runs_results(\n",
    "...     lambda_1=3,\n",
    "...     lambda_2=2,\n",
    "...     mu=1,\n",
    "...     num_of_servers=6,\n",
    "...     threshold=10,\n",
    "...     system_capacity=20,\n",
    "...     buffer_capacity=10,\n",
    "...     seed_num=0,\n",
    "...     runtime=2000,\n",
    "...     num_of_trials=10,\n",
    "...     target=1,\n",
    "... )"
   ]
  },
  {
   "cell_type": "code",
   "execution_count": 9,
   "metadata": {},
   "outputs": [
    {
     "data": {
      "text/plain": [
       "0.35585979549204577"
      ]
     },
     "execution_count": 9,
     "metadata": {},
     "output_type": "execute_result"
    }
   ],
   "source": [
    ">>> mean_wait = np.mean([\n",
    "...     np.mean(w.waiting_times) for w in all_simulations\n",
    "... ])\n",
    ">>> mean_wait"
   ]
  },
  {
   "cell_type": "code",
   "execution_count": 11,
   "metadata": {},
   "outputs": [
    {
     "data": {
      "text/plain": [
       "1.002184850213415"
      ]
     },
     "execution_count": 11,
     "metadata": {},
     "output_type": "execute_result"
    }
   ],
   "source": [
    ">>> mean_service = np.mean([\n",
    "...     np.mean(s.service_times) for s in all_simulations\n",
    "... ])\n",
    ">>> mean_service"
   ]
  },
  {
   "cell_type": "code",
   "execution_count": 12,
   "metadata": {},
   "outputs": [
    {
     "data": {
      "text/plain": [
       "0.3976966024549059"
      ]
     },
     "execution_count": 12,
     "metadata": {},
     "output_type": "execute_result"
    }
   ],
   "source": [
    ">>> mean_block = np.mean([\n",
    "...     np.mean(b.blocking_times) for b in all_simulations\n",
    "... ])\n",
    ">>> mean_block"
   ]
  },
  {
   "cell_type": "code",
   "execution_count": 13,
   "metadata": {},
   "outputs": [
    {
     "data": {
      "text/plain": [
       "0.45785790578122043"
      ]
     },
     "execution_count": 13,
     "metadata": {},
     "output_type": "execute_result"
    }
   ],
   "source": [
    ">>> mean_prop = np.mean([\n",
    "...     p.proportion_within_target for p in all_simulations\n",
    "... ])\n",
    ">>> mean_prop\n",
    "0.45785790578122043"
   ]
  },
  {
   "cell_type": "code",
   "execution_count": 14,
   "metadata": {},
   "outputs": [
    {
     "data": {
      "text/plain": [
       "array([[0.166, 0.266, 0.192, 0.147, 0.025],\n",
       "       [  nan,   nan,   nan, 0.094, 0.024],\n",
       "       [  nan,   nan,   nan, 0.058, 0.027]])"
      ]
     },
     "execution_count": 14,
     "metadata": {},
     "output_type": "execute_result"
    }
   ],
   "source": [
    ">>> import numpy as np\n",
    ">>> import ambulance_game as abg\n",
    ">>> simulation_object = abg.simulation.simulate_model(\n",
    "...     lambda_1=1,\n",
    "...     lambda_2=2,\n",
    "...     mu=2,\n",
    "...     num_of_servers=2,\n",
    "...     threshold=3,\n",
    "...     system_capacity=4,\n",
    "...     buffer_capacity=2,\n",
    "...     seed_num=0,\n",
    "...     runtime=2000,\n",
    "... )\n",
    ">>> probs = abg.simulation.get_simulated_state_probabilities(\n",
    "...    simulation_object=simulation_object,\n",
    "... )\n",
    ">>> np.round(probs, decimals=3)"
   ]
  },
  {
   "cell_type": "code",
   "execution_count": 15,
   "metadata": {},
   "outputs": [
    {
     "data": {
      "text/plain": [
       "array([[0.18 , 0.267, 0.197, 0.144, 0.024],\n",
       "       [  nan,   nan,   nan, 0.085, 0.022],\n",
       "       [  nan,   nan,   nan, 0.054, 0.026]])"
      ]
     },
     "execution_count": 15,
     "metadata": {},
     "output_type": "execute_result"
    }
   ],
   "source": [
    ">>> import numpy as np\n",
    ">>> import ambulance_game as abg\n",
    ">>> probs = abg.simulation.get_average_simulated_state_probabilities(\n",
    "...     lambda_1=1,\n",
    "...     lambda_2=2,\n",
    "...     mu=2,\n",
    "...     num_of_servers=2,\n",
    "...     threshold=3,\n",
    "...     system_capacity=4,\n",
    "...     buffer_capacity=2,\n",
    "...     seed_num=0,\n",
    "...     runtime=2000,\n",
    "...     num_of_trials=10,\n",
    "... )\n",
    ">>> np.round(probs, decimals=3)"
   ]
  },
  {
   "attachments": {},
   "cell_type": "markdown",
   "metadata": {},
   "source": [
    "# State and Server dependent model"
   ]
  },
  {
   "cell_type": "code",
   "execution_count": 27,
   "metadata": {},
   "outputs": [],
   "source": [
    ">>> state_dependent_service_rate = {\n",
    "...     (0, 0): np.nan,\n",
    "...     (0, 1): 0.5,\n",
    "...     (0, 2): 0.3,\n",
    "...     (0, 3): 0.2,\n",
    "...     (1, 3): 0.2,\n",
    "...     (0, 4): 0.2,\n",
    "...     (1, 4): 0.4,\n",
    "... }\n",
    ">>> server_dependent_service_rate = {\n",
    "...     1: 0.5,\n",
    "...     2: 0.3,\n",
    "... }\n",
    ">>> state_server_dependent_service_rate = {\n",
    "...     1: {\n",
    "...         (0, 1): 0.5,\n",
    "...         (0, 2): 0.3,\n",
    "...         (0, 3): 0.2,\n",
    "...         (1, 3): 0.2,\n",
    "...         (0, 4): 0.2,\n",
    "...         (1, 4): 0.4,\n",
    "...     },\n",
    "...     2: {\n",
    "...         (0, 1): 1.5,\n",
    "...         (0, 2): 1.3,\n",
    "...         (0, 3): 1.2,\n",
    "...         (1, 3): 1.2,\n",
    "...         (0, 4): 1.2,\n",
    "...         (1, 4): 1.4,\n",
    "...     },\n",
    "... }"
   ]
  },
  {
   "cell_type": "code",
   "execution_count": 28,
   "metadata": {},
   "outputs": [],
   "source": [
    ">>> simulation_object = abg.simulation.simulate_model(\n",
    "...     lambda_1=0.2,\n",
    "...     lambda_2=0.15,\n",
    "...     mu=state_server_dependent_service_rate,\n",
    "...     num_of_servers=2,\n",
    "...     threshold=4,\n",
    "...     seed_num=0,\n",
    "...     runtime=100,\n",
    "... )"
   ]
  },
  {
   "cell_type": "code",
   "execution_count": 42,
   "metadata": {},
   "outputs": [
    {
     "data": {
      "text/plain": [
       "[32.88159812544271, 8.576662185652019]"
      ]
     },
     "execution_count": 42,
     "metadata": {},
     "output_type": "execute_result"
    }
   ],
   "source": [
    "servers = simulation_object.nodes[2].servers\n",
    "[server.busy_time for server in servers]"
   ]
  },
  {
   "cell_type": "code",
   "execution_count": null,
   "metadata": {},
   "outputs": [],
   "source": []
  }
 ],
 "metadata": {
  "kernelspec": {
   "display_name": "thesis_env",
   "language": "python",
   "name": "python3"
  },
  "language_info": {
   "codemirror_mode": {
    "name": "ipython",
    "version": 3
   },
   "file_extension": ".py",
   "mimetype": "text/x-python",
   "name": "python",
   "nbconvert_exporter": "python",
   "pygments_lexer": "ipython3",
   "version": "3.9.0"
  },
  "orig_nbformat": 4,
  "vscode": {
   "interpreter": {
    "hash": "03e0c90f518b252709b410be75989f6632b8029f6a69bcca929b6af2a03e6e7f"
   }
  }
 },
 "nbformat": 4,
 "nbformat_minor": 2
}
