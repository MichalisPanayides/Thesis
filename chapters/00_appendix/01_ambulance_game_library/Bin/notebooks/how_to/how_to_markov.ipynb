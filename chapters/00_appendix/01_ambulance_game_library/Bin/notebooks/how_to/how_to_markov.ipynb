{
 "cells": [
  {
   "cell_type": "code",
   "execution_count": 4,
   "metadata": {},
   "outputs": [],
   "source": [
    "import ambulance_game as abg\n",
    "import matplotlib.pyplot as plt"
   ]
  },
  {
   "cell_type": "code",
   "execution_count": 24,
   "metadata": {},
   "outputs": [],
   "source": [
    "lambda_1 = 1\n",
    "lambda_2 = 2\n",
    "mu = 5\n",
    "\n",
    "num_of_servers = 1\n",
    "threshold = 2\n",
    "system_capacity = 3\n",
    "buffer_capacity = 1"
   ]
  },
  {
   "cell_type": "code",
   "execution_count": 25,
   "metadata": {},
   "outputs": [
    {
     "data": {
      "text/plain": [
       "[(0, 0), (0, 1), (0, 2), (1, 2), (0, 3), (1, 3)]"
      ]
     },
     "execution_count": 25,
     "metadata": {},
     "output_type": "execute_result"
    }
   ],
   "source": [
    "all_states = abg.markov.build_states(\n",
    "    threshold=threshold,\n",
    "    system_capacity=system_capacity,\n",
    "    buffer_capacity=buffer_capacity,\n",
    ")\n",
    "all_states"
   ]
  },
  {
   "attachments": {},
   "cell_type": "markdown",
   "metadata": {},
   "source": [
    "# Paragraph 3\n",
    "\n",
    "To visualise the list of states that are returned by the\n",
    "$\\texttt{build\\_states}$ function, the $\\texttt{visualise\\_markov\\_chain}$\n",
    "function can be used."
   ]
  },
  {
   "cell_type": "code",
   "execution_count": 31,
   "metadata": {},
   "outputs": [
    {
     "data": {
      "image/png": "[encoded data removed]",
      "text/plain": [
       "<Figure size 600x300 with 1 Axes>"
      ]
     },
     "metadata": {},
     "output_type": "display_data"
    }
   ],
   "source": [
    "abg.markov.visualise_markov_chain(\n",
    "    num_of_servers=num_of_servers,\n",
    "    threshold=threshold,\n",
    "    system_capacity=system_capacity,\n",
    "    buffer_capacity=buffer_capacity,\n",
    ")\n",
    "plt.savefig(\"../../visualise_markov.pdf\", transparent=True)"
   ]
  },
  {
   "cell_type": "code",
   "execution_count": 32,
   "metadata": {},
   "outputs": [
    {
     "data": {
      "text/plain": [
       "array([[-3.,  3.,  0.,  0.,  0.,  0.],\n",
       "       [ 5., -8.,  3.,  0.,  0.,  0.],\n",
       "       [ 0.,  5., -8.,  2.,  1.,  0.],\n",
       "       [ 0.,  0.,  5., -6.,  0.,  1.],\n",
       "       [ 0.,  0.,  5.,  0., -7.,  2.],\n",
       "       [ 0.,  0.,  0.,  5.,  0., -5.]])"
      ]
     },
     "execution_count": 32,
     "metadata": {},
     "output_type": "execute_result"
    }
   ],
   "source": [
    "Q = abg.markov.get_transition_matrix(\n",
    "    lambda_1=lambda_1,\n",
    "    lambda_2=lambda_2,\n",
    "    mu=mu,\n",
    "    num_of_servers=num_of_servers,\n",
    "    threshold=threshold,\n",
    "    system_capacity=system_capacity,\n",
    "    buffer_capacity=buffer_capacity,\n",
    ")\n",
    "Q"
   ]
  },
  {
   "attachments": {},
   "cell_type": "markdown",
   "metadata": {},
   "source": []
  },
  {
   "cell_type": "code",
   "execution_count": 34,
   "metadata": {},
   "outputs": [
    {
     "data": {
      "text/latex": [
       "$\\displaystyle \\left[\\begin{matrix}- \\Lambda & \\Lambda & 0 & 0 & 0 & 0\\\\\\mu & - \\Lambda - \\mu & \\Lambda & 0 & 0 & 0\\\\0 & \\mu & - \\lambda_{1} - \\lambda_{2} - \\mu & \\lambda_{2} & \\lambda_{1} & 0\\\\0 & 0 & \\mu & - \\lambda_{1} - \\mu & 0 & \\lambda_{1}\\\\0 & 0 & \\mu & 0 & - \\lambda_{2} - \\mu & \\lambda_{2}\\\\0 & 0 & 0 & \\mu & 0 & - \\mu\\end{matrix}\\right]$"
      ],
      "text/plain": [
       "Matrix([\n",
       "[-Lambda,       Lambda,                         0,              0,              0,        0],\n",
       "[     mu, -Lambda - mu,                    Lambda,              0,              0,        0],\n",
       "[      0,           mu, -lambda_1 - lambda_2 - mu,       lambda_2,       lambda_1,        0],\n",
       "[      0,            0,                        mu, -lambda_1 - mu,              0, lambda_1],\n",
       "[      0,            0,                        mu,              0, -lambda_2 - mu, lambda_2],\n",
       "[      0,            0,                         0,             mu,              0,      -mu]])"
      ]
     },
     "execution_count": 34,
     "metadata": {},
     "output_type": "execute_result"
    }
   ],
   "source": [
    "Q_sym = abg.markov.get_symbolic_transition_matrix(\n",
    "    num_of_servers=num_of_servers,\n",
    "    threshold=threshold,\n",
    "    system_capacity=system_capacity,\n",
    "    buffer_capacity=buffer_capacity,\n",
    ")\n",
    "Q_sym"
   ]
  },
  {
   "cell_type": "code",
   "execution_count": 35,
   "metadata": {},
   "outputs": [
    {
     "data": {
      "text/plain": [
       "array([[-3.,  3.,  0.,  0.,  0.,  0.],\n",
       "       [ 5., -8.,  3.,  0.,  0.,  0.],\n",
       "       [ 0.,  5., -8.,  2.,  1.,  0.],\n",
       "       [ 0.,  0.,  5., -6.,  0.,  1.],\n",
       "       [ 0.,  0.,  5.,  0., -7.,  2.],\n",
       "       [ 0.,  0.,  0.,  5.,  0., -5.]])"
      ]
     },
     "execution_count": 35,
     "metadata": {},
     "output_type": "execute_result"
    }
   ],
   "source": [
    "abg.markov.convert_symbolic_transition_matrix(\n",
    "    Q_sym=Q_sym,\n",
    "    lambda_1=lambda_1,\n",
    "    lambda_2=lambda_2,\n",
    "    mu=mu,\n",
    ")"
   ]
  },
  {
   "cell_type": "code",
   "execution_count": 39,
   "metadata": {},
   "outputs": [
    {
     "data": {
      "text/plain": [
       "array([0.44853393, 0.26912036, 0.16147222, 0.07381587, 0.02306746,\n",
       "       0.02399016])"
      ]
     },
     "execution_count": 39,
     "metadata": {},
     "output_type": "execute_result"
    }
   ],
   "source": [
    "pi = abg.markov.get_steady_state_numerically(Q)\n",
    "pi"
   ]
  },
  {
   "cell_type": "code",
   "execution_count": 40,
   "metadata": {},
   "outputs": [
    {
     "data": {
      "text/plain": [
       "array([0.44853393, 0.26912036, 0.16147222, 0.07381587, 0.02306746,\n",
       "       0.02399016])"
      ]
     },
     "execution_count": 40,
     "metadata": {},
     "output_type": "execute_result"
    }
   ],
   "source": [
    "pi = abg.markov.get_steady_state_algebraically(Q)\n",
    "pi"
   ]
  },
  {
   "cell_type": "code",
   "execution_count": 41,
   "metadata": {},
   "outputs": [
    {
     "data": {
      "text/plain": [
       "0.9786754152143147"
      ]
     },
     "execution_count": 41,
     "metadata": {},
     "output_type": "execute_result"
    }
   ],
   "source": [
    "abg.markov.get_mean_number_of_individuals_in_system(\n",
    "    pi=pi_1, states=all_states\n",
    ")"
   ]
  },
  {
   "cell_type": "code",
   "execution_count": 42,
   "metadata": {},
   "outputs": [
    {
     "data": {
      "text/plain": [
       "0.8808693869182215"
      ]
     },
     "execution_count": 42,
     "metadata": {},
     "output_type": "execute_result"
    }
   ],
   "source": [
    "abg.markov.get_mean_number_of_individuals_in_service_area(\n",
    "    pi=pi_1, states=all_states\n",
    ")"
   ]
  },
  {
   "cell_type": "code",
   "execution_count": 43,
   "metadata": {},
   "outputs": [
    {
     "data": {
      "text/plain": [
       "0.09780602829609314"
      ]
     },
     "execution_count": 43,
     "metadata": {},
     "output_type": "execute_result"
    }
   ],
   "source": [
    "abg.markov.get_mean_number_of_individuals_in_buffer_center(\n",
    "    pi=pi_1, states=all_states\n",
    ")"
   ]
  },
  {
   "cell_type": "code",
   "execution_count": 45,
   "metadata": {},
   "outputs": [
    {
     "data": {
      "text/plain": [
       "0.11946458449525936"
      ]
     },
     "execution_count": 45,
     "metadata": {},
     "output_type": "execute_result"
    }
   ],
   "source": [
    "abg.markov.get_mean_waiting_time_using_markov_state_probabilities(\n",
    "    lambda_1=lambda_1,\n",
    "    lambda_2=lambda_2,\n",
    "    mu=mu,\n",
    "    num_of_servers=num_of_servers,\n",
    "    threshold=threshold,\n",
    "    system_capacity=system_capacity,\n",
    "    buffer_capacity=buffer_capacity,\n",
    ")"
   ]
  },
  {
   "cell_type": "code",
   "execution_count": 46,
   "metadata": {},
   "outputs": [
    {
     "data": {
      "text/plain": [
       "0.05420454545454545"
      ]
     },
     "execution_count": 46,
     "metadata": {},
     "output_type": "execute_result"
    }
   ],
   "source": [
    "abg.markov.get_mean_blocking_time_using_markov_state_probabilities(\n",
    "    lambda_1=lambda_1,\n",
    "    lambda_2=lambda_2,\n",
    "    mu=mu,\n",
    "    num_of_servers=num_of_servers,\n",
    "    threshold=threshold,\n",
    "    system_capacity=system_capacity,\n",
    "    buffer_capacity=buffer_capacity,\n",
    ")"
   ]
  },
  {
   "cell_type": "code",
   "execution_count": 55,
   "metadata": {},
   "outputs": [
    {
     "data": {
      "text/plain": [
       "0.7909590829104574"
      ]
     },
     "execution_count": 55,
     "metadata": {},
     "output_type": "execute_result"
    }
   ],
   "source": [
    "abg.markov.proportion_within_target_using_markov_state_probabilities(\n",
    "    lambda_1=lambda_1,\n",
    "    lambda_2=lambda_2,\n",
    "    mu=mu,\n",
    "    num_of_servers=num_of_servers,\n",
    "    threshold=threshold,\n",
    "    system_capacity=system_capacity,\n",
    "    buffer_capacity=buffer_capacity,\n",
    "    class_type=None,\n",
    "    target=0.5,\n",
    ")"
   ]
  },
  {
   "cell_type": "code",
   "execution_count": null,
   "metadata": {},
   "outputs": [],
   "source": []
  }
 ],
 "metadata": {
  "kernelspec": {
   "display_name": "thesis_env",
   "language": "python",
   "name": "python3"
  },
  "language_info": {
   "codemirror_mode": {
    "name": "ipython",
    "version": 3
   },
   "file_extension": ".py",
   "mimetype": "text/x-python",
   "name": "python",
   "nbconvert_exporter": "python",
   "pygments_lexer": "ipython3",
   "version": "3.9.0"
  },
  "orig_nbformat": 4,
  "vscode": {
   "interpreter": {
    "hash": "03e0c90f518b252709b410be75989f6632b8029f6a69bcca929b6af2a03e6e7f"
   }
  }
 },
 "nbformat": 4,
 "nbformat_minor": 2
}
