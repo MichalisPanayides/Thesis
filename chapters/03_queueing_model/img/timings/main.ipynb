{
 "cells": [
  {
   "cell_type": "code",
   "execution_count": 10,
   "metadata": {},
   "outputs": [],
   "source": [
    "import numpy as np\n",
    "import pandas as pd"
   ]
  },
  {
   "cell_type": "code",
   "execution_count": 11,
   "metadata": {},
   "outputs": [],
   "source": [
    "def get_mean_from_file(filename):\n",
    "    df = pd.read_csv(filename)\n",
    "    list_of_times = [float(time.replace('[', '').replace(']', '')) for time in df]\n",
    "    return np.mean(list_of_times)"
   ]
  },
  {
   "cell_type": "code",
   "execution_count": 3,
   "metadata": {},
   "outputs": [],
   "source": [
    "files_10 = [\n",
    "    \"data/parking_capacity_5/simulation_single_trial_bounded_10.csv\",\n",
    "    \"data/parking_capacity_5/simulation_twenty_trials_bounded_10.csv\",\n",
    "    \"data/parking_capacity_5/markov_waiting_formula_bounded_10.csv\",\n",
    "    \"data/parking_capacity_5/markov_blocking_formula_bounded_10.csv\",\n",
    "    \"data/parking_capacity_5/markov_proportion_formula_bounded_10.csv\",\n",
    "]\n",
    "files_30 = [\n",
    "    \"data/parking_capacity_5/simulation_single_trial_bounded_30.csv\",\n",
    "    \"data/parking_capacity_5/simulation_twenty_trials_bounded_30.csv\",\n",
    "    \"data/parking_capacity_5/markov_waiting_formula_bounded_30.csv\",\n",
    "    \"data/parking_capacity_5/markov_blocking_formula_bounded_30.csv\",\n",
    "    \"data/parking_capacity_5/markov_proportion_formula_bounded_30.csv\",\n",
    "]\n",
    "files_50 = [\n",
    "    \"data/parking_capacity_5/simulation_single_trial_bounded_50.csv\",\n",
    "    \"data/parking_capacity_5/simulation_twenty_trials_bounded_50.csv\",\n",
    "    \"data/parking_capacity_5/markov_waiting_formula_bounded_50.csv\",\n",
    "    \"data/parking_capacity_5/markov_blocking_formula_bounded_50.csv\",\n",
    "    \"data/parking_capacity_5/markov_proportion_formula_bounded_50.csv\",\n",
    "]\n",
    "files_inf = [\n",
    "    \"data/parking_capacity_5/simulation_single_trial_unbounded.csv\",\n",
    "    \"data/parking_capacity_5/simulation_twenty_trials_unbounded.csv\",\n",
    "    None,\n",
    "    None,\n",
    "    None,\n",
    "]\n",
    "all_files = [files_10, files_30, files_50, files_inf]\n",
    "all_capacities = [10, 30, 50, np.inf]"
   ]
  },
  {
   "cell_type": "code",
   "execution_count": 4,
   "metadata": {},
   "outputs": [
    {
     "name": "stdout",
     "output_type": "stream",
     "text": [
      "\t\t\t\t\t\t\t\t\t\t\t\t\tM = 5\n"
     ]
    },
    {
     "data": {
      "text/html": [
       "<div>\n",
       "<style scoped>\n",
       "    .dataframe tbody tr th:only-of-type {\n",
       "        vertical-align: middle;\n",
       "    }\n",
       "\n",
       "    .dataframe tbody tr th {\n",
       "        vertical-align: top;\n",
       "    }\n",
       "\n",
       "    .dataframe thead th {\n",
       "        text-align: right;\n",
       "    }\n",
       "</style>\n",
       "<table border=\"1\" class=\"dataframe\">\n",
       "  <thead>\n",
       "    <tr style=\"text-align: right;\">\n",
       "      <th></th>\n",
       "      <th>Simulation (1 trial)</th>\n",
       "      <th>Simulation (20 trials)</th>\n",
       "      <th>Markov waiting time formula</th>\n",
       "      <th>Markov blocking time formula</th>\n",
       "      <th>Markov proportion formula</th>\n",
       "    </tr>\n",
       "  </thead>\n",
       "  <tbody>\n",
       "    <tr>\n",
       "      <th>10.0</th>\n",
       "      <td>3.306250</td>\n",
       "      <td>76.977985</td>\n",
       "      <td>0.06950</td>\n",
       "      <td>0.06665</td>\n",
       "      <td>0.07250</td>\n",
       "    </tr>\n",
       "    <tr>\n",
       "      <th>30.0</th>\n",
       "      <td>3.620631</td>\n",
       "      <td>73.300900</td>\n",
       "      <td>2.76865</td>\n",
       "      <td>2.86310</td>\n",
       "      <td>2.79030</td>\n",
       "    </tr>\n",
       "    <tr>\n",
       "      <th>50.0</th>\n",
       "      <td>3.324200</td>\n",
       "      <td>72.474300</td>\n",
       "      <td>9.85245</td>\n",
       "      <td>10.20315</td>\n",
       "      <td>10.41365</td>\n",
       "    </tr>\n",
       "    <tr>\n",
       "      <th>inf</th>\n",
       "      <td>3.306827</td>\n",
       "      <td>73.908216</td>\n",
       "      <td>NaN</td>\n",
       "      <td>NaN</td>\n",
       "      <td>NaN</td>\n",
       "    </tr>\n",
       "  </tbody>\n",
       "</table>\n",
       "</div>"
      ],
      "text/plain": [
       "      Simulation (1 trial)  Simulation (20 trials)  \\\n",
       "10.0              3.306250               76.977985   \n",
       "30.0              3.620631               73.300900   \n",
       "50.0              3.324200               72.474300   \n",
       "inf               3.306827               73.908216   \n",
       "\n",
       "      Markov waiting time formula  Markov blocking time formula  \\\n",
       "10.0                      0.06950                       0.06665   \n",
       "30.0                      2.76865                       2.86310   \n",
       "50.0                      9.85245                      10.20315   \n",
       "inf                           NaN                           NaN   \n",
       "\n",
       "      Markov proportion formula  \n",
       "10.0                    0.07250  \n",
       "30.0                    2.79030  \n",
       "50.0                   10.41365  \n",
       "inf                         NaN  "
      ]
     },
     "execution_count": 4,
     "metadata": {},
     "output_type": "execute_result"
    }
   ],
   "source": [
    "colnames = ['Simulation (1 trial)', 'Simulation (20 trials)', 'Markov waiting time formula', 'Markov blocking time formula', 'Markov proportion formula']\n",
    "df = pd.DataFrame(columns=colnames)\n",
    "for files_C, C in zip(all_files, all_capacities):\n",
    "    new_row = []\n",
    "    for file in files_C:\n",
    "        if file is not None:\n",
    "            new_row.append(get_mean_from_file(file))\n",
    "        else:\n",
    "            new_row.append(np.nan)\n",
    "    df.loc[C] = new_row\n",
    "print(\"\\t\" * 13 + \"M = 5\")\n",
    "df"
   ]
  },
  {
   "cell_type": "code",
   "execution_count": null,
   "metadata": {},
   "outputs": [],
   "source": []
  },
  {
   "cell_type": "code",
   "execution_count": null,
   "metadata": {},
   "outputs": [],
   "source": []
  },
  {
   "cell_type": "code",
   "execution_count": 5,
   "metadata": {},
   "outputs": [],
   "source": [
    "files_10 = [\n",
    "    \"data/parking_capacity_50/simulation_single_trial_bounded_10.csv\",\n",
    "    \"data/parking_capacity_50/simulation_twenty_trials_bounded_10.csv\",\n",
    "    \"data/parking_capacity_50/markov_waiting_formula_bounded_10.csv\",\n",
    "    \"data/parking_capacity_50/markov_blocking_formula_bounded_10.csv\",\n",
    "    \"data/parking_capacity_50/markov_proportion_formula_bounded_10.csv\",\n",
    "]\n",
    "files_30 = [\n",
    "    \"data/parking_capacity_50/simulation_single_trial_bounded_30.csv\",\n",
    "    \"data/parking_capacity_50/simulation_twenty_trials_bounded_30.csv\",\n",
    "    \"data/parking_capacity_50/markov_waiting_formula_bounded_30.csv\",\n",
    "    \"data/parking_capacity_50/markov_blocking_formula_bounded_30.csv\",\n",
    "    \"data/parking_capacity_50/markov_proportion_formula_bounded_30.csv\",\n",
    "]\n",
    "files_50 = [\n",
    "    \"data/parking_capacity_50/simulation_single_trial_bounded_50.csv\",\n",
    "    \"data/parking_capacity_50/simulation_twenty_trials_bounded_50.csv\",\n",
    "    \"data/parking_capacity_50/markov_waiting_formula_bounded_50.csv\",\n",
    "    \"data/parking_capacity_50/markov_blocking_formula_bounded_50.csv\",\n",
    "    \"data/parking_capacity_50/markov_proportion_formula_bounded_50.csv\",\n",
    "]\n",
    "files_inf = [\n",
    "    \"data/parking_capacity_50/simulation_single_trial_unbounded.csv\",\n",
    "    \"data/parking_capacity_50/simulation_twenty_trials_unbounded.csv\",\n",
    "    None,\n",
    "    None,\n",
    "    None,\n",
    "]\n",
    "all_files = [files_10, files_30, files_50, files_inf]\n",
    "all_capacities = [10, 30, 50, np.inf]"
   ]
  },
  {
   "cell_type": "code",
   "execution_count": 6,
   "metadata": {},
   "outputs": [
    {
     "name": "stdout",
     "output_type": "stream",
     "text": [
      "\t\t\t\t\t\t\t\t\t\t\t\t\tM = 50\n"
     ]
    },
    {
     "data": {
      "text/html": [
       "<div>\n",
       "<style scoped>\n",
       "    .dataframe tbody tr th:only-of-type {\n",
       "        vertical-align: middle;\n",
       "    }\n",
       "\n",
       "    .dataframe tbody tr th {\n",
       "        vertical-align: top;\n",
       "    }\n",
       "\n",
       "    .dataframe thead th {\n",
       "        text-align: right;\n",
       "    }\n",
       "</style>\n",
       "<table border=\"1\" class=\"dataframe\">\n",
       "  <thead>\n",
       "    <tr style=\"text-align: right;\">\n",
       "      <th></th>\n",
       "      <th>Simulation (1 trial)</th>\n",
       "      <th>Simulation (20 trials)</th>\n",
       "      <th>Markov waiting time formula</th>\n",
       "      <th>Markov blocking time formula</th>\n",
       "      <th>Markov proportion formula</th>\n",
       "    </tr>\n",
       "  </thead>\n",
       "  <tbody>\n",
       "    <tr>\n",
       "      <th>10.0</th>\n",
       "      <td>3.211299</td>\n",
       "      <td>93.919762</td>\n",
       "      <td>0.036600</td>\n",
       "      <td>0.036054</td>\n",
       "      <td>0.037154</td>\n",
       "    </tr>\n",
       "    <tr>\n",
       "      <th>30.0</th>\n",
       "      <td>3.363650</td>\n",
       "      <td>77.028303</td>\n",
       "      <td>10.410697</td>\n",
       "      <td>10.720000</td>\n",
       "      <td>10.471900</td>\n",
       "    </tr>\n",
       "    <tr>\n",
       "      <th>50.0</th>\n",
       "      <td>3.845300</td>\n",
       "      <td>79.527606</td>\n",
       "      <td>100.215427</td>\n",
       "      <td>118.718100</td>\n",
       "      <td>99.970662</td>\n",
       "    </tr>\n",
       "    <tr>\n",
       "      <th>inf</th>\n",
       "      <td>3.187654</td>\n",
       "      <td>70.045688</td>\n",
       "      <td>NaN</td>\n",
       "      <td>NaN</td>\n",
       "      <td>NaN</td>\n",
       "    </tr>\n",
       "  </tbody>\n",
       "</table>\n",
       "</div>"
      ],
      "text/plain": [
       "      Simulation (1 trial)  Simulation (20 trials)  \\\n",
       "10.0              3.211299               93.919762   \n",
       "30.0              3.363650               77.028303   \n",
       "50.0              3.845300               79.527606   \n",
       "inf               3.187654               70.045688   \n",
       "\n",
       "      Markov waiting time formula  Markov blocking time formula  \\\n",
       "10.0                     0.036600                      0.036054   \n",
       "30.0                    10.410697                     10.720000   \n",
       "50.0                   100.215427                    118.718100   \n",
       "inf                           NaN                           NaN   \n",
       "\n",
       "      Markov proportion formula  \n",
       "10.0                   0.037154  \n",
       "30.0                  10.471900  \n",
       "50.0                  99.970662  \n",
       "inf                         NaN  "
      ]
     },
     "execution_count": 6,
     "metadata": {},
     "output_type": "execute_result"
    }
   ],
   "source": [
    "colnames = ['Simulation (1 trial)', 'Simulation (20 trials)', 'Markov waiting time formula', 'Markov blocking time formula', 'Markov proportion formula']\n",
    "df = pd.DataFrame(columns=colnames)\n",
    "for files_C, C in zip(all_files, all_capacities):\n",
    "    new_row = []\n",
    "    for file in files_C:\n",
    "        if file is not None:\n",
    "            new_row.append(get_mean_from_file(file))\n",
    "        else:\n",
    "            new_row.append(np.nan)\n",
    "    df.loc[C] = new_row\n",
    "print(\"\\t\" * 13 + \"M = 50\")\n",
    "df"
   ]
  },
  {
   "cell_type": "code",
   "execution_count": null,
   "metadata": {},
   "outputs": [],
   "source": []
  },
  {
   "cell_type": "code",
   "execution_count": null,
   "metadata": {},
   "outputs": [],
   "source": []
  },
  {
   "cell_type": "code",
   "execution_count": null,
   "metadata": {},
   "outputs": [],
   "source": []
  },
  {
   "cell_type": "markdown",
   "metadata": {},
   "source": [
    "# Simulation with 100 trials"
   ]
  },
  {
   "cell_type": "code",
   "execution_count": 12,
   "metadata": {},
   "outputs": [],
   "source": [
    "files_10 = [\n",
    "    \"data/parking_capacity_50_inc_trials/simulation_single_trial_bounded_10.csv\",\n",
    "    \"data/parking_capacity_50_inc_trials/simulation_hundred_trials_bounded_10.csv\",\n",
    "    \"data/parking_capacity_50_inc_trials/markov_waiting_formula_bounded_10.csv\",\n",
    "    \"data/parking_capacity_50_inc_trials/markov_blocking_formula_bounded_10.csv\",\n",
    "    \"data/parking_capacity_50_inc_trials/markov_proportion_formula_bounded_10.csv\",\n",
    "]\n",
    "files_30 = [\n",
    "    \"data/parking_capacity_50_inc_trials/simulation_single_trial_bounded_30.csv\",\n",
    "    \"data/parking_capacity_50_inc_trials/simulation_hundred_trials_bounded_30.csv\",\n",
    "    \"data/parking_capacity_50_inc_trials/markov_waiting_formula_bounded_30.csv\",\n",
    "    \"data/parking_capacity_50_inc_trials/markov_blocking_formula_bounded_30.csv\",\n",
    "    \"data/parking_capacity_50_inc_trials/markov_proportion_formula_bounded_30.csv\",\n",
    "]\n",
    "files_50 = [\n",
    "    \"data/parking_capacity_50_inc_trials/simulation_single_trial_bounded_50.csv\",\n",
    "    \"data/parking_capacity_50_inc_trials/simulation_hundred_trials_bounded_50.csv\",\n",
    "    \"data/parking_capacity_50_inc_trials/markov_waiting_formula_bounded_50.csv\",\n",
    "    \"data/parking_capacity_50_inc_trials/markov_blocking_formula_bounded_50.csv\",\n",
    "    \"data/parking_capacity_50_inc_trials/markov_proportion_formula_bounded_50.csv\",\n",
    "]\n",
    "files_inf = [\n",
    "    \"data/parking_capacity_50_inc_trials/simulation_single_trial_unbounded.csv\",\n",
    "    \"data/parking_capacity_50_inc_trials/simulation_hundred_trials_unbounded.csv\",\n",
    "    None,\n",
    "    None,\n",
    "    None,\n",
    "]\n",
    "all_files = [files_10, files_30, files_50, files_inf]\n",
    "all_capacities = [10, 30, 50, np.inf]"
   ]
  },
  {
   "cell_type": "code",
   "execution_count": 13,
   "metadata": {},
   "outputs": [
    {
     "name": "stdout",
     "output_type": "stream",
     "text": [
      "\t\t\t\t\tN = M\n"
     ]
    },
    {
     "data": {
      "text/html": [
       "<div>\n",
       "<style scoped>\n",
       "    .dataframe tbody tr th:only-of-type {\n",
       "        vertical-align: middle;\n",
       "    }\n",
       "\n",
       "    .dataframe tbody tr th {\n",
       "        vertical-align: top;\n",
       "    }\n",
       "\n",
       "    .dataframe thead th {\n",
       "        text-align: right;\n",
       "    }\n",
       "</style>\n",
       "<table border=\"1\" class=\"dataframe\">\n",
       "  <thead>\n",
       "    <tr style=\"text-align: right;\">\n",
       "      <th></th>\n",
       "      <th>Simulation (1 trial)</th>\n",
       "      <th>Simulation (100 trials)</th>\n",
       "      <th>Markov waiting time formula</th>\n",
       "      <th>Markov blocking time formula</th>\n",
       "      <th>Markov proportion formula</th>\n",
       "    </tr>\n",
       "  </thead>\n",
       "  <tbody>\n",
       "    <tr>\n",
       "      <th>10.0</th>\n",
       "      <td>2.729002</td>\n",
       "      <td>393.779046</td>\n",
       "      <td>0.041500</td>\n",
       "      <td>0.039008</td>\n",
       "      <td>0.038045</td>\n",
       "    </tr>\n",
       "    <tr>\n",
       "      <th>30.0</th>\n",
       "      <td>2.908499</td>\n",
       "      <td>417.078044</td>\n",
       "      <td>10.851544</td>\n",
       "      <td>11.133542</td>\n",
       "      <td>10.612521</td>\n",
       "    </tr>\n",
       "    <tr>\n",
       "      <th>50.0</th>\n",
       "      <td>2.995004</td>\n",
       "      <td>418.601003</td>\n",
       "      <td>94.540982</td>\n",
       "      <td>114.973549</td>\n",
       "      <td>95.773507</td>\n",
       "    </tr>\n",
       "    <tr>\n",
       "      <th>inf</th>\n",
       "      <td>2.469041</td>\n",
       "      <td>350.859040</td>\n",
       "      <td>NaN</td>\n",
       "      <td>NaN</td>\n",
       "      <td>NaN</td>\n",
       "    </tr>\n",
       "  </tbody>\n",
       "</table>\n",
       "</div>"
      ],
      "text/plain": [
       "      Simulation (1 trial)  Simulation (100 trials)  \\\n",
       "10.0              2.729002               393.779046   \n",
       "30.0              2.908499               417.078044   \n",
       "50.0              2.995004               418.601003   \n",
       "inf               2.469041               350.859040   \n",
       "\n",
       "      Markov waiting time formula  Markov blocking time formula  \\\n",
       "10.0                     0.041500                      0.039008   \n",
       "30.0                    10.851544                     11.133542   \n",
       "50.0                    94.540982                    114.973549   \n",
       "inf                           NaN                           NaN   \n",
       "\n",
       "      Markov proportion formula  \n",
       "10.0                   0.038045  \n",
       "30.0                  10.612521  \n",
       "50.0                  95.773507  \n",
       "inf                         NaN  "
      ]
     },
     "execution_count": 13,
     "metadata": {},
     "output_type": "execute_result"
    }
   ],
   "source": [
    "colnames = ['Simulation (1 trial)', 'Simulation (100 trials)', 'Markov waiting time formula', 'Markov blocking time formula', 'Markov proportion formula']\n",
    "df = pd.DataFrame(columns=colnames)\n",
    "for files_C, C in zip(all_files, all_capacities):\n",
    "    new_row = []\n",
    "    for file in files_C:\n",
    "        if file is not None:\n",
    "            new_row.append(get_mean_from_file(file))\n",
    "        else:\n",
    "            new_row.append(np.nan)\n",
    "    df.loc[C] = new_row\n",
    "print(\"\\t\" * 5 + \"N = M\")\n",
    "df"
   ]
  },
  {
   "cell_type": "code",
   "execution_count": 4,
   "metadata": {},
   "outputs": [
    {
     "data": {
      "text/plain": [
       "3.7309773873052734"
      ]
     },
     "execution_count": 4,
     "metadata": {},
     "output_type": "execute_result"
    }
   ],
   "source": [
    "10.851544 / 2.908499"
   ]
  },
  {
   "cell_type": "markdown",
   "metadata": {},
   "source": [
    "### Relative time"
   ]
  },
  {
   "cell_type": "code",
   "execution_count": 66,
   "metadata": {},
   "outputs": [
    {
     "data": {
      "text/html": [
       "<div>\n",
       "<style scoped>\n",
       "    .dataframe tbody tr th:only-of-type {\n",
       "        vertical-align: middle;\n",
       "    }\n",
       "\n",
       "    .dataframe tbody tr th {\n",
       "        vertical-align: top;\n",
       "    }\n",
       "\n",
       "    .dataframe thead th {\n",
       "        text-align: right;\n",
       "    }\n",
       "</style>\n",
       "<table border=\"1\" class=\"dataframe\">\n",
       "  <thead>\n",
       "    <tr style=\"text-align: right;\">\n",
       "      <th></th>\n",
       "      <th>Simulation (1 trial)</th>\n",
       "      <th>Simulation (100 trials)</th>\n",
       "      <th>Markov waiting time formula</th>\n",
       "      <th>Markov blocking time formula</th>\n",
       "      <th>Markov proportion formula</th>\n",
       "    </tr>\n",
       "  </thead>\n",
       "  <tbody>\n",
       "    <tr>\n",
       "      <th>10.0</th>\n",
       "      <td>1.0</td>\n",
       "      <td>144.294165</td>\n",
       "      <td>0.015207</td>\n",
       "      <td>0.014294</td>\n",
       "      <td>0.013941</td>\n",
       "    </tr>\n",
       "    <tr>\n",
       "      <th>30.0</th>\n",
       "      <td>1.0</td>\n",
       "      <td>143.399761</td>\n",
       "      <td>3.730978</td>\n",
       "      <td>3.827934</td>\n",
       "      <td>3.648797</td>\n",
       "    </tr>\n",
       "    <tr>\n",
       "      <th>50.0</th>\n",
       "      <td>1.0</td>\n",
       "      <td>139.766428</td>\n",
       "      <td>31.566230</td>\n",
       "      <td>38.388447</td>\n",
       "      <td>31.977757</td>\n",
       "    </tr>\n",
       "    <tr>\n",
       "      <th>inf</th>\n",
       "      <td>1.0</td>\n",
       "      <td>142.103368</td>\n",
       "      <td>NaN</td>\n",
       "      <td>NaN</td>\n",
       "      <td>NaN</td>\n",
       "    </tr>\n",
       "  </tbody>\n",
       "</table>\n",
       "</div>"
      ],
      "text/plain": [
       "      Simulation (1 trial)  Simulation (100 trials)  \\\n",
       "10.0                   1.0               144.294165   \n",
       "30.0                   1.0               143.399761   \n",
       "50.0                   1.0               139.766428   \n",
       "inf                    1.0               142.103368   \n",
       "\n",
       "      Markov waiting time formula  Markov blocking time formula  \\\n",
       "10.0                     0.015207                      0.014294   \n",
       "30.0                     3.730978                      3.827934   \n",
       "50.0                    31.566230                     38.388447   \n",
       "inf                           NaN                           NaN   \n",
       "\n",
       "      Markov proportion formula  \n",
       "10.0                   0.013941  \n",
       "30.0                   3.648797  \n",
       "50.0                  31.977757  \n",
       "inf                         NaN  "
      ]
     },
     "execution_count": 66,
     "metadata": {},
     "output_type": "execute_result"
    }
   ],
   "source": [
    "df.div(df[colnames[0]], axis=0)"
   ]
  },
  {
   "cell_type": "code",
   "execution_count": null,
   "metadata": {},
   "outputs": [],
   "source": []
  },
  {
   "cell_type": "code",
   "execution_count": null,
   "metadata": {},
   "outputs": [],
   "source": []
  },
  {
   "cell_type": "markdown",
   "metadata": {},
   "source": [
    "Getting the transition matrix is what takes a lot of time:\n",
    "\n",
    "- $N = M = 50 \\, \\Rightarrow$ there are $N × M = 2500$ possible states.\n",
    "- Therefore $2500 \\times 2500 = 6250000$ possible transitions to calculate"
   ]
  },
  {
   "cell_type": "markdown",
   "metadata": {},
   "source": [
    "```python\n",
    ">>> def get_transition_matrix():\n",
    "...    Q = np.zeros((N * M, N * M))\n",
    "...    for (i, origin_state), (j, destination_state) in itertools.product(\n",
    "...        enumerate(all_states), repeat=2\n",
    "...    ):\n",
    "...        Q[i, j] = get_transition_matrix_entry(...)\n",
    "...    return Q\n",
    "```"
   ]
  },
  {
   "cell_type": "code",
   "execution_count": 7,
   "metadata": {},
   "outputs": [],
   "source": [
    "import ambulance_game as abg"
   ]
  },
  {
   "cell_type": "code",
   "execution_count": 9,
   "metadata": {},
   "outputs": [
    {
     "data": {
      "text/plain": [
       "0.13112064858602188"
      ]
     },
     "execution_count": 9,
     "metadata": {},
     "output_type": "execute_result"
    }
   ],
   "source": [
    "lambda_2 = 4\n",
    "\n",
    "lambda_1 = 2\n",
    "mu = 3\n",
    "num_of_servers = 3\n",
    "threshold = 8\n",
    "\n",
    "abg.markov.get_mean_waiting_time_using_markov_state_probabilities(\n",
    "    lambda_2=lambda_2,\n",
    "    lambda_1=lambda_1,\n",
    "    mu=mu,\n",
    "    num_of_servers=num_of_servers,\n",
    "    threshold=threshold,\n",
    "    system_capacity=50,\n",
    "    buffer_capacity=10,\n",
    "    class_type=None,\n",
    ")"
   ]
  },
  {
   "cell_type": "code",
   "execution_count": 13,
   "metadata": {},
   "outputs": [],
   "source": [
    "system_capacity = 50\n",
    "buffer_capacity = 10\n",
    "\n",
    "transition_matrix = abg.markov.get_transition_matrix(\n",
    "    lambda_2=lambda_2,\n",
    "    lambda_1=lambda_1,\n",
    "    mu=mu,\n",
    "    num_of_servers=num_of_servers,\n",
    "    threshold=threshold,\n",
    "    system_capacity=system_capacity,\n",
    "    buffer_capacity=buffer_capacity,\n",
    ")"
   ]
  },
  {
   "cell_type": "code",
   "execution_count": 14,
   "metadata": {},
   "outputs": [],
   "source": [
    "all_states = abg.markov.build_states(\n",
    "    threshold=threshold,\n",
    "    system_capacity=system_capacity,\n",
    "    buffer_capacity=buffer_capacity,\n",
    ")"
   ]
  },
  {
   "cell_type": "code",
   "execution_count": 15,
   "metadata": {},
   "outputs": [],
   "source": [
    "pi = abg.markov.get_steady_state_algebraically(\n",
    "    Q=transition_matrix, algebraic_function=np.linalg.solve\n",
    ")"
   ]
  },
  {
   "cell_type": "code",
   "execution_count": null,
   "metadata": {},
   "outputs": [],
   "source": []
  }
 ],
 "metadata": {
  "interpreter": {
   "hash": "9d0a231f7a1ac4999260dcf904b8b7607d6916d2ba7540ced993fb6fb0d0a861"
  },
  "kernelspec": {
   "display_name": "Python 3.9.0 ('GamePaper')",
   "language": "python",
   "name": "python3"
  },
  "language_info": {
   "codemirror_mode": {
    "name": "ipython",
    "version": 3
   },
   "file_extension": ".py",
   "mimetype": "text/x-python",
   "name": "python",
   "nbconvert_exporter": "python",
   "pygments_lexer": "ipython3",
   "version": "3.9.0"
  },
  "orig_nbformat": 4
 },
 "nbformat": 4,
 "nbformat_minor": 2
}
