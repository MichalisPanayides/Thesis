{
 "cells": [
  {
   "cell_type": "code",
   "execution_count": 65,
   "metadata": {},
   "outputs": [],
   "source": [
    "import csv\n",
    "\n",
    "import numpy as np\n",
    "import pandas as pd"
   ]
  },
  {
   "cell_type": "code",
   "execution_count": 66,
   "metadata": {},
   "outputs": [],
   "source": [
    "def get_mean_from_file(filename):\n",
    "    list_of_times = []\n",
    "    with open(file) as csvfile:\n",
    "        contents = csv.reader(csvfile)\n",
    "        for row in tuple(contents)[0]:\n",
    "            list_of_times.append(float(row.replace('[', '').replace(']', '').replace(' ', '')))\n",
    "    return np.mean(list_of_times)"
   ]
  },
  {
   "cell_type": "code",
   "execution_count": 67,
   "metadata": {},
   "outputs": [],
   "source": [
    "files_10 = [\n",
    "    \"data/simulation_single_trial_bounded_10.csv\",\n",
    "    \"data/simulation_twenty_trials_bounded_10.csv\",\n",
    "    \"data/markov_waiting_formula_bounded_10.csv\",\n",
    "    \"data/markov_blocking_formula_bounded_10.csv\",\n",
    "    \"data/markov_proportion_formula_bounded_10.csv\",\n",
    "]\n",
    "files_30 = [\n",
    "    \"data/simulation_single_trial_bounded_30.csv\",\n",
    "    \"data/simulation_twenty_trials_bounded_30.csv\",\n",
    "    \"data/markov_waiting_formula_bounded_30.csv\",\n",
    "    \"data/markov_blocking_formula_bounded_30.csv\",\n",
    "    \"data/markov_proportion_formula_bounded_30.csv\",\n",
    "]\n",
    "files_50 = [\n",
    "    \"data/simulation_single_trial_bounded_50.csv\",\n",
    "    \"data/simulation_twenty_trials_bounded_50.csv\",\n",
    "    \"data/markov_waiting_formula_bounded_50.csv\",\n",
    "    \"data/markov_blocking_formula_bounded_50.csv\",\n",
    "    \"data/markov_proportion_formula_bounded_50.csv\",\n",
    "]\n",
    "files_inf = [\n",
    "    \"data/simulation_single_trial_unbounded.csv\",\n",
    "    \"data/simulation_twenty_trials_unbounded.csv\",\n",
    "    None,\n",
    "    None,\n",
    "    None,\n",
    "]\n",
    "all_files = [files_10, files_30, files_50, files_inf]\n",
    "all_capacities = [10, 30, 50, np.inf]"
   ]
  },
  {
   "cell_type": "code",
   "execution_count": 68,
   "metadata": {},
   "outputs": [
    {
     "data": {
      "text/html": [
       "<div>\n",
       "<style scoped>\n",
       "    .dataframe tbody tr th:only-of-type {\n",
       "        vertical-align: middle;\n",
       "    }\n",
       "\n",
       "    .dataframe tbody tr th {\n",
       "        vertical-align: top;\n",
       "    }\n",
       "\n",
       "    .dataframe thead th {\n",
       "        text-align: right;\n",
       "    }\n",
       "</style>\n",
       "<table border=\"1\" class=\"dataframe\">\n",
       "  <thead>\n",
       "    <tr style=\"text-align: right;\">\n",
       "      <th></th>\n",
       "      <th>Simulation (1 trial)</th>\n",
       "      <th>Simulation (20 trials)</th>\n",
       "      <th>Markov waiting time formula</th>\n",
       "      <th>Markov blocking time formula</th>\n",
       "      <th>Markov proportion formula</th>\n",
       "    </tr>\n",
       "  </thead>\n",
       "  <tbody>\n",
       "    <tr>\n",
       "      <th>10.0</th>\n",
       "      <td>12.048291</td>\n",
       "      <td>287.129902</td>\n",
       "      <td>0.005004</td>\n",
       "      <td>0.001755</td>\n",
       "      <td>0.003300</td>\n",
       "    </tr>\n",
       "    <tr>\n",
       "      <th>30.0</th>\n",
       "      <td>12.276980</td>\n",
       "      <td>265.638425</td>\n",
       "      <td>0.098705</td>\n",
       "      <td>0.441242</td>\n",
       "      <td>0.165134</td>\n",
       "    </tr>\n",
       "    <tr>\n",
       "      <th>50.0</th>\n",
       "      <td>12.173462</td>\n",
       "      <td>266.095288</td>\n",
       "      <td>1.795037</td>\n",
       "      <td>14.964870</td>\n",
       "      <td>2.183143</td>\n",
       "    </tr>\n",
       "    <tr>\n",
       "      <th>inf</th>\n",
       "      <td>10.274742</td>\n",
       "      <td>261.893844</td>\n",
       "      <td>NaN</td>\n",
       "      <td>NaN</td>\n",
       "      <td>NaN</td>\n",
       "    </tr>\n",
       "  </tbody>\n",
       "</table>\n",
       "</div>"
      ],
      "text/plain": [
       "      Simulation (1 trial)  Simulation (20 trials)  \\\n",
       "10.0             12.048291              287.129902   \n",
       "30.0             12.276980              265.638425   \n",
       "50.0             12.173462              266.095288   \n",
       "inf              10.274742              261.893844   \n",
       "\n",
       "      Markov waiting time formula  Markov blocking time formula  \\\n",
       "10.0                     0.005004                      0.001755   \n",
       "30.0                     0.098705                      0.441242   \n",
       "50.0                     1.795037                     14.964870   \n",
       "inf                           NaN                           NaN   \n",
       "\n",
       "      Markov proportion formula  \n",
       "10.0                   0.003300  \n",
       "30.0                   0.165134  \n",
       "50.0                   2.183143  \n",
       "inf                         NaN  "
      ]
     },
     "execution_count": 68,
     "metadata": {},
     "output_type": "execute_result"
    }
   ],
   "source": [
    "colnames = ['Simulation (1 trial)', 'Simulation (20 trials)', 'Markov waiting time formula', 'Markov blocking time formula', 'Markov proportion formula']\n",
    "df = pd.DataFrame(columns=colnames)\n",
    "for files_C, C in zip(all_files, all_capacities):\n",
    "    new_row = []\n",
    "    for file in files_C:\n",
    "        if file is not None:\n",
    "            new_row.append(get_mean_from_file(file))\n",
    "        else:\n",
    "            new_row.append(np.nan)\n",
    "    df.loc[C] = new_row\n",
    "df"
   ]
  },
  {
   "cell_type": "code",
   "execution_count": null,
   "metadata": {},
   "outputs": [],
   "source": []
  },
  {
   "cell_type": "markdown",
   "metadata": {},
   "source": [
    "## Relative times"
   ]
  },
  {
   "cell_type": "code",
   "execution_count": 64,
   "metadata": {},
   "outputs": [
    {
     "data": {
      "text/html": [
       "<div>\n",
       "<style scoped>\n",
       "    .dataframe tbody tr th:only-of-type {\n",
       "        vertical-align: middle;\n",
       "    }\n",
       "\n",
       "    .dataframe tbody tr th {\n",
       "        vertical-align: top;\n",
       "    }\n",
       "\n",
       "    .dataframe thead th {\n",
       "        text-align: right;\n",
       "    }\n",
       "</style>\n",
       "<table border=\"1\" class=\"dataframe\">\n",
       "  <thead>\n",
       "    <tr style=\"text-align: right;\">\n",
       "      <th></th>\n",
       "      <th>Simulation (1 trial)</th>\n",
       "      <th>Simulation (20 trials)</th>\n",
       "      <th>Markov waiting time formula</th>\n",
       "      <th>Markov blocking time formula</th>\n",
       "      <th>Markov proportion formula</th>\n",
       "    </tr>\n",
       "  </thead>\n",
       "  <tbody>\n",
       "    <tr>\n",
       "      <th>10.0</th>\n",
       "      <td>1.0</td>\n",
       "      <td>23.831587</td>\n",
       "      <td>0.000415</td>\n",
       "      <td>0.000146</td>\n",
       "      <td>0.000274</td>\n",
       "    </tr>\n",
       "    <tr>\n",
       "      <th>30.0</th>\n",
       "      <td>1.0</td>\n",
       "      <td>21.637115</td>\n",
       "      <td>0.008040</td>\n",
       "      <td>0.035941</td>\n",
       "      <td>0.013451</td>\n",
       "    </tr>\n",
       "    <tr>\n",
       "      <th>50.0</th>\n",
       "      <td>1.0</td>\n",
       "      <td>21.858637</td>\n",
       "      <td>0.147455</td>\n",
       "      <td>1.229303</td>\n",
       "      <td>0.179336</td>\n",
       "    </tr>\n",
       "    <tr>\n",
       "      <th>inf</th>\n",
       "      <td>1.0</td>\n",
       "      <td>25.489091</td>\n",
       "      <td>NaN</td>\n",
       "      <td>NaN</td>\n",
       "      <td>NaN</td>\n",
       "    </tr>\n",
       "  </tbody>\n",
       "</table>\n",
       "</div>"
      ],
      "text/plain": [
       "      Simulation (1 trial)  Simulation (20 trials)  \\\n",
       "10.0                   1.0               23.831587   \n",
       "30.0                   1.0               21.637115   \n",
       "50.0                   1.0               21.858637   \n",
       "inf                    1.0               25.489091   \n",
       "\n",
       "      Markov waiting time formula  Markov blocking time formula  \\\n",
       "10.0                     0.000415                      0.000146   \n",
       "30.0                     0.008040                      0.035941   \n",
       "50.0                     0.147455                      1.229303   \n",
       "inf                           NaN                           NaN   \n",
       "\n",
       "      Markov proportion formula  \n",
       "10.0                   0.000274  \n",
       "30.0                   0.013451  \n",
       "50.0                   0.179336  \n",
       "inf                         NaN  "
      ]
     },
     "execution_count": 64,
     "metadata": {},
     "output_type": "execute_result"
    }
   ],
   "source": [
    "df.div(df[colnames[0]], axis=0)"
   ]
  },
  {
   "cell_type": "code",
   "execution_count": null,
   "metadata": {},
   "outputs": [],
   "source": []
  },
  {
   "cell_type": "code",
   "execution_count": null,
   "metadata": {},
   "outputs": [],
   "source": []
  },
  {
   "cell_type": "code",
   "execution_count": null,
   "metadata": {},
   "outputs": [],
   "source": []
  },
  {
   "cell_type": "code",
   "execution_count": null,
   "metadata": {},
   "outputs": [],
   "source": []
  },
  {
   "cell_type": "code",
   "execution_count": null,
   "metadata": {},
   "outputs": [],
   "source": []
  }
 ],
 "metadata": {
  "kernelspec": {
   "display_name": "Python 3.9.7 ('thesis_env')",
   "language": "python",
   "name": "python3"
  },
  "language_info": {
   "codemirror_mode": {
    "name": "ipython",
    "version": 3
   },
   "file_extension": ".py",
   "mimetype": "text/x-python",
   "name": "python",
   "nbconvert_exporter": "python",
   "pygments_lexer": "ipython3",
   "version": "3.9.0"
  },
  "orig_nbformat": 4,
  "vscode": {
   "interpreter": {
    "hash": "03e0c90f518b252709b410be75989f6632b8029f6a69bcca929b6af2a03e6e7f"
   }
  }
 },
 "nbformat": 4,
 "nbformat_minor": 2
}
