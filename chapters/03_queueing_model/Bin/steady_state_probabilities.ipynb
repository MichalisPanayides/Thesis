{
 "cells": [
  {
   "cell_type": "code",
   "execution_count": 1,
   "metadata": {},
   "outputs": [],
   "source": [
    "import itertools\n",
    "\n",
    "import numpy as np\n",
    "import scipy as sci\n",
    "\n",
    "import ambulance_game as abg"
   ]
  },
  {
   "cell_type": "code",
   "execution_count": 2,
   "metadata": {},
   "outputs": [],
   "source": [
    "lambda_1 = 1\n",
    "lambda_2 = 2\n",
    "mu = 2\n",
    "num_of_servers = 2\n",
    "threshold = 3\n",
    "system_capacity = 4\n",
    "buffer_capacity = 2"
   ]
  },
  {
   "cell_type": "code",
   "execution_count": 3,
   "metadata": {},
   "outputs": [],
   "source": [
    "Q = abg.markov.get_transition_matrix(\n",
    "    lambda_1=lambda_1,\n",
    "    lambda_2=lambda_2,\n",
    "    mu=mu,\n",
    "    num_of_servers=num_of_servers,\n",
    "    threshold=threshold,\n",
    "    system_capacity=system_capacity,\n",
    "    buffer_capacity=buffer_capacity\n",
    ")"
   ]
  },
  {
   "cell_type": "markdown",
   "metadata": {},
   "source": [
    "## Using numerical integration - odeint"
   ]
  },
  {
   "cell_type": "code",
   "execution_count": 5,
   "metadata": {},
   "outputs": [
    {
     "data": {
      "text/plain": [
       "array([0.17596013, 0.2639402 , 0.19795515, 0.14846636, 0.08660538,\n",
       "       0.05464387, 0.02474439, 0.02268236, 0.02500215])"
      ]
     },
     "execution_count": 5,
     "metadata": {},
     "output_type": "execute_result"
    }
   ],
   "source": [
    "pi_1 = abg.markov.get_steady_state_numerically(\n",
    "    Q, integration_function=sci.integrate.odeint\n",
    ")\n",
    "pi_1"
   ]
  },
  {
   "cell_type": "markdown",
   "metadata": {},
   "source": [
    "## Using numerical integration - solve_ivp"
   ]
  },
  {
   "cell_type": "code",
   "execution_count": 6,
   "metadata": {},
   "outputs": [
    {
     "data": {
      "text/plain": [
       "array([0.17596012, 0.26394019, 0.19795515, 0.14846637, 0.08660539,\n",
       "       0.05464388, 0.02474439, 0.02268236, 0.02500215])"
      ]
     },
     "execution_count": 6,
     "metadata": {},
     "output_type": "execute_result"
    }
   ],
   "source": [
    "pi_2 = abg.markov.get_steady_state_numerically(\n",
    "    Q, integration_function=sci.integrate.solve_ivp\n",
    ")\n",
    "pi_2"
   ]
  },
  {
   "cell_type": "markdown",
   "metadata": {},
   "source": [
    "## Using linear algebra - solve"
   ]
  },
  {
   "cell_type": "code",
   "execution_count": 8,
   "metadata": {},
   "outputs": [
    {
     "data": {
      "text/plain": [
       "array([0.17596013, 0.2639402 , 0.19795515, 0.14846636, 0.08660538,\n",
       "       0.05464387, 0.02474439, 0.02268236, 0.02500215])"
      ]
     },
     "execution_count": 8,
     "metadata": {},
     "output_type": "execute_result"
    }
   ],
   "source": [
    "pi_3 = abg.markov.get_steady_state_algebraically(\n",
    "    Q, algebraic_function=np.linalg.solve\n",
    ")\n",
    "pi_3"
   ]
  },
  {
   "cell_type": "markdown",
   "metadata": {},
   "source": [
    "## Using linear algebra - lstsq"
   ]
  },
  {
   "cell_type": "code",
   "execution_count": 9,
   "metadata": {},
   "outputs": [
    {
     "data": {
      "text/plain": [
       "array([0.17596013, 0.2639402 , 0.19795515, 0.14846636, 0.08660538,\n",
       "       0.05464387, 0.02474439, 0.02268236, 0.02500215])"
      ]
     },
     "execution_count": 9,
     "metadata": {},
     "output_type": "execute_result"
    }
   ],
   "source": [
    "pi_4 = abg.markov.get_steady_state_algebraically(\n",
    "    Q, algebraic_function=np.linalg.lstsq\n",
    ")\n",
    "pi_4"
   ]
  },
  {
   "cell_type": "code",
   "execution_count": 27,
   "metadata": {},
   "outputs": [],
   "source": [
    "for arr_i, arr_j in tuple(itertools.combinations((pi_1, pi_2, pi_3, pi_4), 2)):\n",
    "    assert np.allclose(arr_i, arr_j)"
   ]
  },
  {
   "cell_type": "code",
   "execution_count": null,
   "metadata": {},
   "outputs": [],
   "source": []
  },
  {
   "cell_type": "code",
   "execution_count": null,
   "metadata": {},
   "outputs": [],
   "source": []
  },
  {
   "cell_type": "code",
   "execution_count": null,
   "metadata": {},
   "outputs": [],
   "source": []
  },
  {
   "cell_type": "code",
   "execution_count": null,
   "metadata": {},
   "outputs": [],
   "source": []
  },
  {
   "cell_type": "code",
   "execution_count": 38,
   "metadata": {},
   "outputs": [],
   "source": [
    "import itertools\n",
    "\n",
    "import matplotlib.pyplot as plt"
   ]
  },
  {
   "cell_type": "code",
   "execution_count": 39,
   "metadata": {},
   "outputs": [],
   "source": [
    "all_states = abg.markov.build_states(\n",
    "    threshold=threshold, system_capacity=system_capacity, buffer_capacity=buffer_capacity\n",
    ")"
   ]
  },
  {
   "cell_type": "code",
   "execution_count": 40,
   "metadata": {},
   "outputs": [
    {
     "data": {
      "text/plain": [
       "[(0, 0), (0, 1), (0, 2), (0, 3), (1, 3), (2, 3), (0, 4), (1, 4), (2, 4)]"
      ]
     },
     "execution_count": 40,
     "metadata": {},
     "output_type": "execute_result"
    }
   ],
   "source": [
    "all_states"
   ]
  },
  {
   "cell_type": "code",
   "execution_count": 55,
   "metadata": {},
   "outputs": [],
   "source": [
    "demo = np.zeros((buffer_capacity + 1, system_capacity + 1))\n",
    "for index, (u, v) in enumerate(all_states):\n",
    "    demo[u, v] = pi_3[index] - pi_4[index]"
   ]
  },
  {
   "cell_type": "code",
   "execution_count": null,
   "metadata": {},
   "outputs": [],
   "source": []
  },
  {
   "cell_type": "code",
   "execution_count": 56,
   "metadata": {},
   "outputs": [
    {
     "data": {
      "text/plain": [
       "<matplotlib.colorbar.Colorbar at 0x1bee25b1d60>"
      ]
     },
     "execution_count": 56,
     "metadata": {},
     "output_type": "execute_result"
    },
    {
     "data": {
      "image/png": "[encoded data removed]",
      "text/plain": [
       "<Figure size 432x288 with 2 Axes>"
      ]
     },
     "metadata": {
      "needs_background": "light"
     },
     "output_type": "display_data"
    }
   ],
   "source": [
    "plt.imshow(demo)\n",
    "plt.colorbar()"
   ]
  },
  {
   "cell_type": "code",
   "execution_count": null,
   "metadata": {},
   "outputs": [],
   "source": []
  },
  {
   "cell_type": "code",
   "execution_count": null,
   "metadata": {},
   "outputs": [],
   "source": []
  }
 ],
 "metadata": {
  "kernelspec": {
   "display_name": "Python 3.9.7 ('thesis_env')",
   "language": "python",
   "name": "python3"
  },
  "language_info": {
   "codemirror_mode": {
    "name": "ipython",
    "version": 3
   },
   "file_extension": ".py",
   "mimetype": "text/x-python",
   "name": "python",
   "nbconvert_exporter": "python",
   "pygments_lexer": "ipython3",
   "version": "3.9.7"
  },
  "orig_nbformat": 4,
  "vscode": {
   "interpreter": {
    "hash": "03e0c90f518b252709b410be75989f6632b8029f6a69bcca929b6af2a03e6e7f"
   }
  }
 },
 "nbformat": 4,
 "nbformat_minor": 2
}
