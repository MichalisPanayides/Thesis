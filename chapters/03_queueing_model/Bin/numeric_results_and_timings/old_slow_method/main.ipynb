{
 "cells": [
  {
   "cell_type": "code",
   "execution_count": 1,
   "metadata": {},
   "outputs": [],
   "source": [
    "import numpy as np\n",
    "import pandas as pd"
   ]
  },
  {
   "cell_type": "code",
   "execution_count": 2,
   "metadata": {},
   "outputs": [],
   "source": [
    "def get_mean_from_file(filename):\n",
    "    df = pd.read_csv(filename)\n",
    "    list_of_times = [float(time.replace('[', '').replace(']', '')) for time in df]\n",
    "    return np.mean(list_of_times)"
   ]
  },
  {
   "cell_type": "code",
   "execution_count": null,
   "metadata": {},
   "outputs": [],
   "source": []
  },
  {
   "cell_type": "code",
   "execution_count": null,
   "metadata": {},
   "outputs": [],
   "source": []
  },
  {
   "cell_type": "markdown",
   "metadata": {},
   "source": [
    "# Simulation with 100 trials"
   ]
  },
  {
   "cell_type": "code",
   "execution_count": 9,
   "metadata": {},
   "outputs": [],
   "source": [
    "files_10 = [\n",
    "    \"data/simulation_single_trial_bounded_10.csv\",\n",
    "    \"data/simulation_hundred_trials_bounded_10.csv\",\n",
    "    \"data/markov_waiting_formula_bounded_10.csv\",\n",
    "    \"data/markov_blocking_formula_bounded_10.csv\",\n",
    "    \"data/markov_proportion_formula_bounded_10.csv\",\n",
    "]\n",
    "files_30 = [\n",
    "    \"data/simulation_single_trial_bounded_30.csv\",\n",
    "    \"data/simulation_hundred_trials_bounded_30.csv\",\n",
    "    \"data/markov_waiting_formula_bounded_30.csv\",\n",
    "    \"data/markov_blocking_formula_bounded_30.csv\",\n",
    "    \"data/markov_proportion_formula_bounded_30.csv\",\n",
    "]\n",
    "files_50 = [\n",
    "    \"data/simulation_single_trial_bounded_50.csv\",\n",
    "    \"data/simulation_hundred_trials_bounded_50.csv\",\n",
    "    \"data/markov_waiting_formula_bounded_50.csv\",\n",
    "    \"data/markov_blocking_formula_bounded_50.csv\",\n",
    "    \"data/markov_proportion_formula_bounded_50.csv\",\n",
    "]\n",
    "files_inf = [\n",
    "    \"data/simulation_single_trial_unbounded.csv\",\n",
    "    \"data/simulation_hundred_trials_unbounded.csv\",\n",
    "    None,\n",
    "    None,\n",
    "    None,\n",
    "]\n",
    "all_files = [files_10, files_30, files_50, files_inf]\n",
    "all_capacities = [10, 30, 50, np.inf]"
   ]
  },
  {
   "cell_type": "code",
   "execution_count": 10,
   "metadata": {},
   "outputs": [
    {
     "name": "stdout",
     "output_type": "stream",
     "text": [
      "\t\t\t\t\tN = M\n"
     ]
    },
    {
     "data": {
      "text/html": [
       "<div>\n",
       "<style scoped>\n",
       "    .dataframe tbody tr th:only-of-type {\n",
       "        vertical-align: middle;\n",
       "    }\n",
       "\n",
       "    .dataframe tbody tr th {\n",
       "        vertical-align: top;\n",
       "    }\n",
       "\n",
       "    .dataframe thead th {\n",
       "        text-align: right;\n",
       "    }\n",
       "</style>\n",
       "<table border=\"1\" class=\"dataframe\">\n",
       "  <thead>\n",
       "    <tr style=\"text-align: right;\">\n",
       "      <th></th>\n",
       "      <th>Simulation (1 trial)</th>\n",
       "      <th>Simulation (100 trials)</th>\n",
       "      <th>Markov waiting time formula</th>\n",
       "      <th>Markov blocking time formula</th>\n",
       "      <th>Markov proportion formula</th>\n",
       "    </tr>\n",
       "  </thead>\n",
       "  <tbody>\n",
       "    <tr>\n",
       "      <th>10.0</th>\n",
       "      <td>2.729002</td>\n",
       "      <td>393.779046</td>\n",
       "      <td>0.041500</td>\n",
       "      <td>0.039008</td>\n",
       "      <td>0.038045</td>\n",
       "    </tr>\n",
       "    <tr>\n",
       "      <th>30.0</th>\n",
       "      <td>2.908499</td>\n",
       "      <td>417.078044</td>\n",
       "      <td>10.851544</td>\n",
       "      <td>11.133542</td>\n",
       "      <td>10.612521</td>\n",
       "    </tr>\n",
       "    <tr>\n",
       "      <th>50.0</th>\n",
       "      <td>2.995004</td>\n",
       "      <td>418.601003</td>\n",
       "      <td>94.540982</td>\n",
       "      <td>114.973549</td>\n",
       "      <td>95.773507</td>\n",
       "    </tr>\n",
       "    <tr>\n",
       "      <th>inf</th>\n",
       "      <td>2.469041</td>\n",
       "      <td>350.859040</td>\n",
       "      <td>NaN</td>\n",
       "      <td>NaN</td>\n",
       "      <td>NaN</td>\n",
       "    </tr>\n",
       "  </tbody>\n",
       "</table>\n",
       "</div>"
      ],
      "text/plain": [
       "      Simulation (1 trial)  Simulation (100 trials)  \\\n",
       "10.0              2.729002               393.779046   \n",
       "30.0              2.908499               417.078044   \n",
       "50.0              2.995004               418.601003   \n",
       "inf               2.469041               350.859040   \n",
       "\n",
       "      Markov waiting time formula  Markov blocking time formula  \\\n",
       "10.0                     0.041500                      0.039008   \n",
       "30.0                    10.851544                     11.133542   \n",
       "50.0                    94.540982                    114.973549   \n",
       "inf                           NaN                           NaN   \n",
       "\n",
       "      Markov proportion formula  \n",
       "10.0                   0.038045  \n",
       "30.0                  10.612521  \n",
       "50.0                  95.773507  \n",
       "inf                         NaN  "
      ]
     },
     "execution_count": 10,
     "metadata": {},
     "output_type": "execute_result"
    }
   ],
   "source": [
    "colnames = ['Simulation (1 trial)', 'Simulation (100 trials)', 'Markov waiting time formula', 'Markov blocking time formula', 'Markov proportion formula']\n",
    "df = pd.DataFrame(columns=colnames)\n",
    "for files_C, C in zip(all_files, all_capacities):\n",
    "    new_row = []\n",
    "    for file in files_C:\n",
    "        if file is not None:\n",
    "            new_row.append(get_mean_from_file(file))\n",
    "        else:\n",
    "            new_row.append(np.nan)\n",
    "    df.loc[C] = new_row\n",
    "print(\"\\t\" * 5 + \"N = M\")\n",
    "df"
   ]
  },
  {
   "cell_type": "code",
   "execution_count": null,
   "metadata": {},
   "outputs": [],
   "source": []
  },
  {
   "cell_type": "markdown",
   "metadata": {},
   "source": [
    "### Relative time"
   ]
  },
  {
   "cell_type": "code",
   "execution_count": 11,
   "metadata": {},
   "outputs": [
    {
     "data": {
      "text/html": [
       "<div>\n",
       "<style scoped>\n",
       "    .dataframe tbody tr th:only-of-type {\n",
       "        vertical-align: middle;\n",
       "    }\n",
       "\n",
       "    .dataframe tbody tr th {\n",
       "        vertical-align: top;\n",
       "    }\n",
       "\n",
       "    .dataframe thead th {\n",
       "        text-align: right;\n",
       "    }\n",
       "</style>\n",
       "<table border=\"1\" class=\"dataframe\">\n",
       "  <thead>\n",
       "    <tr style=\"text-align: right;\">\n",
       "      <th></th>\n",
       "      <th>Simulation (1 trial)</th>\n",
       "      <th>Simulation (100 trials)</th>\n",
       "      <th>Markov waiting time formula</th>\n",
       "      <th>Markov blocking time formula</th>\n",
       "      <th>Markov proportion formula</th>\n",
       "    </tr>\n",
       "  </thead>\n",
       "  <tbody>\n",
       "    <tr>\n",
       "      <th>10.0</th>\n",
       "      <td>1.0</td>\n",
       "      <td>144.294165</td>\n",
       "      <td>0.015207</td>\n",
       "      <td>0.014294</td>\n",
       "      <td>0.013941</td>\n",
       "    </tr>\n",
       "    <tr>\n",
       "      <th>30.0</th>\n",
       "      <td>1.0</td>\n",
       "      <td>143.399761</td>\n",
       "      <td>3.730978</td>\n",
       "      <td>3.827934</td>\n",
       "      <td>3.648797</td>\n",
       "    </tr>\n",
       "    <tr>\n",
       "      <th>50.0</th>\n",
       "      <td>1.0</td>\n",
       "      <td>139.766428</td>\n",
       "      <td>31.566230</td>\n",
       "      <td>38.388447</td>\n",
       "      <td>31.977757</td>\n",
       "    </tr>\n",
       "    <tr>\n",
       "      <th>inf</th>\n",
       "      <td>1.0</td>\n",
       "      <td>142.103368</td>\n",
       "      <td>NaN</td>\n",
       "      <td>NaN</td>\n",
       "      <td>NaN</td>\n",
       "    </tr>\n",
       "  </tbody>\n",
       "</table>\n",
       "</div>"
      ],
      "text/plain": [
       "      Simulation (1 trial)  Simulation (100 trials)  \\\n",
       "10.0                   1.0               144.294165   \n",
       "30.0                   1.0               143.399761   \n",
       "50.0                   1.0               139.766428   \n",
       "inf                    1.0               142.103368   \n",
       "\n",
       "      Markov waiting time formula  Markov blocking time formula  \\\n",
       "10.0                     0.015207                      0.014294   \n",
       "30.0                     3.730978                      3.827934   \n",
       "50.0                    31.566230                     38.388447   \n",
       "inf                           NaN                           NaN   \n",
       "\n",
       "      Markov proportion formula  \n",
       "10.0                   0.013941  \n",
       "30.0                   3.648797  \n",
       "50.0                  31.977757  \n",
       "inf                         NaN  "
      ]
     },
     "execution_count": 11,
     "metadata": {},
     "output_type": "execute_result"
    }
   ],
   "source": [
    "df.div(df[colnames[0]], axis=0)"
   ]
  },
  {
   "cell_type": "code",
   "execution_count": null,
   "metadata": {},
   "outputs": [],
   "source": []
  },
  {
   "cell_type": "code",
   "execution_count": null,
   "metadata": {},
   "outputs": [],
   "source": []
  },
  {
   "cell_type": "code",
   "execution_count": null,
   "metadata": {},
   "outputs": [],
   "source": []
  },
  {
   "cell_type": "code",
   "execution_count": null,
   "metadata": {},
   "outputs": [],
   "source": []
  },
  {
   "cell_type": "code",
   "execution_count": null,
   "metadata": {},
   "outputs": [],
   "source": []
  },
  {
   "cell_type": "code",
   "execution_count": null,
   "metadata": {},
   "outputs": [],
   "source": []
  }
 ],
 "metadata": {
  "kernelspec": {
   "display_name": "Python 3.9.0 ('thesis_env')",
   "language": "python",
   "name": "python3"
  },
  "language_info": {
   "codemirror_mode": {
    "name": "ipython",
    "version": 3
   },
   "file_extension": ".py",
   "mimetype": "text/x-python",
   "name": "python",
   "nbconvert_exporter": "python",
   "pygments_lexer": "ipython3",
   "version": "3.9.0"
  },
  "orig_nbformat": 4,
  "vscode": {
   "interpreter": {
    "hash": "03e0c90f518b252709b410be75989f6632b8029f6a69bcca929b6af2a03e6e7f"
   }
  }
 },
 "nbformat": 4,
 "nbformat_minor": 2
}
